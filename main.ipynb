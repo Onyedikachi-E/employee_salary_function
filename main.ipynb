{
 "cells": [
  {
   "cell_type": "code",
   "execution_count": null,
   "id": "74a46c85",
   "metadata": {},
   "outputs": [],
   "source": [
    "# Assignment 2 Project for Course BAN6420 (Programming in Python and R)\n",
    "\n",
    "\"\"\"\n",
    "Task 0 : Import the provided salary data from kaggle into your Jupyter Notebook.\n",
    "Task 1 : Develop a Python function that accepts an employee's name as input and returns their details.\n",
    "Task 2 : Data processing with Dictionary\n",
    "Task 4 : Error Handling:\n",
    "Task 5 : Export an employee's details to a CSV file and save it within a zipped folder named \"Employee Profile.\"\n",
    "\"\"\""
   ]
  },
  {
   "cell_type": "code",
   "execution_count": 122,
   "id": "268649f8-491f-4ff1-8d17-55c9a20afaa7",
   "metadata": {},
   "outputs": [],
   "source": [
    "# Import needed packages\n",
    "import pandas as pd, zipfile, os"
   ]
  },
  {
   "cell_type": "code",
   "execution_count": 123,
   "id": "66b0e149",
   "metadata": {},
   "outputs": [],
   "source": [
    "# Task 0: Import the provided salary data from kaggle into your Jupyter Notebook.\n",
    "\n",
    "try: # Task 4: Error Handling:\n",
    "\n",
    "    file_path = \"Total.csv\"\n",
    "    salary_data = pd.read_csv(filepath_or_buffer=file_path, low_memory=False)\n",
    "\n",
    "# Error Handling for Exception  (Task 4)\n",
    "except Exception as e:\n",
    "    error_message = {\"message\":str(e)}\n",
    "    print(error_message)"
   ]
  },
  {
   "cell_type": "code",
   "execution_count": 124,
   "id": "d62d09a3-adf0-4d1c-b013-a1c2d2ad505a",
   "metadata": {},
   "outputs": [],
   "source": [
    "# Task 1: Develop a Python function that accepts an employee's name as input and returns their details.\n",
    "def salary_function(employee_name:str) -> pd.DataFrame:\n",
    "    \"\"\"\n",
    "    - This function accepts employee_name argument\n",
    "    - Returns employee data\n",
    "    \"\"\"\n",
    "    try: # Task 4: Error Handling:\n",
    "        \n",
    "        employee_info = salary_data.query(f\"EmployeeName == '{employee_name}'\")\n",
    "        return employee_info\n",
    "    \n",
    "    # Error Handling for Exception  (Task 4)\n",
    "    except Exception as e:\n",
    "        error_message = {\"message\":str(e)}\n",
    "        print(error_message)"
   ]
  },
  {
   "cell_type": "code",
   "execution_count": 125,
   "id": "4943b477",
   "metadata": {},
   "outputs": [],
   "source": [
    "# Task 3: Data processing with Dictionary\n",
    "def main():\n",
    "\n",
    "\n",
    "    try:  # Task 4: Error Handling:\n",
    "\n",
    "        # Input the Employee name\n",
    "        employee_name = input(\"Input Employee name: \")\n",
    "        employee_data = salary_function(employee_name=employee_name)\n",
    "\n",
    "\n",
    "        # Form a dictionary using the employee data to process the salary\n",
    "        employee_salary = {\n",
    "            \"EmployeeName\": employee_data[\"EmployeeName\"].iat[0],\n",
    "            \"JobTitle\": employee_data[\"JobTitle\"].iat[0],\n",
    "            \"BasePay\": employee_data[\"BasePay\"].iat[0],\n",
    "            \"OvertimePay\": employee_data[\"OvertimePay\"].iat[0],\n",
    "            \"OtherPay\": employee_data[\"OtherPay\"].iat[0],\n",
    "            \"Benefits\": employee_data[\"Benefits\"].iat[0],\n",
    "            \"TotalPay\": employee_data[\"TotalPay\"].iat[0],\n",
    "            \"TotalPayBenefits\": employee_data[\"TotalPayBenefits\"].iat[0],\n",
    "            \"Year\": employee_data[\"Year\"].iat[0]\n",
    "        }\n",
    "        \n",
    "\n",
    "        # Task 5: Save employee data within a zipped folder named \"Employee Profile.\"\n",
    "        with zipfile.ZipFile(\"Employee Profile.zip\", \"w\") as zipf:\n",
    "\n",
    "            # Export employee's details to a CSV file \n",
    "            employee_export_data = pd.DataFrame([employee_salary])\n",
    "            employee_export_data.to_csv(\"Employee Profile.csv\", header=True, mode=\"w\", index=False)\n",
    "\n",
    "            zipf.write(\"Employee Profile.csv\")\n",
    "            zipf.close(); os.remove(\"Employee Profile.csv\")\n",
    "            print(\"The Employee data has been proccessed and zipped\")\n",
    "\n",
    "\n",
    "    # Error Handling for Exception (Task 4)\n",
    "    except Exception as e:\n",
    "        error_message = {\"message\":str(e)}\n",
    "        print(error_message)\n",
    "\n",
    "\n",
    "if __name__ == \"__main__\":\n",
    "    main()"
   ]
  }
 ],
 "metadata": {
  "kernelspec": {
   "display_name": "Python 3 (ipykernel)",
   "language": "python",
   "name": "python3"
  },
  "language_info": {
   "codemirror_mode": {
    "name": "ipython",
    "version": 3
   },
   "file_extension": ".py",
   "mimetype": "text/x-python",
   "name": "python",
   "nbconvert_exporter": "python",
   "pygments_lexer": "ipython3",
   "version": "3.10.12"
  }
 },
 "nbformat": 4,
 "nbformat_minor": 5
}
